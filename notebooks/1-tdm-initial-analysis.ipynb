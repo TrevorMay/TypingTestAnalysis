{
 "cells": [
  {
   "cell_type": "markdown",
   "metadata": {},
   "source": [
    "# Typing Test Analysis"
   ]
  },
  {
   "cell_type": "code",
   "execution_count": 71,
   "metadata": {},
   "outputs": [],
   "source": [
    "%matplotlib inline\n",
    "import matplotlib.pyplot as plt\n",
    "import numpy as np\n",
    "import pandas as pd\n",
    "import seaborn as sns"
   ]
  },
  {
   "cell_type": "markdown",
   "metadata": {},
   "source": [
    "## Getting Data"
   ]
  },
  {
   "cell_type": "code",
   "execution_count": 5,
   "metadata": {},
   "outputs": [
    {
     "name": "stdout",
     "output_type": "stream",
     "text": [
      "beatles.csv\n",
      "central-park-raw.csv\n",
      "snow-alta-1990-2017.csv\n",
      "table_export.csv\n",
      "typing.csv\n",
      "vehicles.csv.zip\n"
     ]
    }
   ],
   "source": [
    "!ls ../data"
   ]
  },
  {
   "cell_type": "code",
   "execution_count": 8,
   "metadata": {},
   "outputs": [
    {
     "data": {
      "text/html": [
       "<div>\n",
       "<style scoped>\n",
       "    .dataframe tbody tr th:only-of-type {\n",
       "        vertical-align: middle;\n",
       "    }\n",
       "\n",
       "    .dataframe tbody tr th {\n",
       "        vertical-align: top;\n",
       "    }\n",
       "\n",
       "    .dataframe thead th {\n",
       "        text-align: right;\n",
       "    }\n",
       "</style>\n",
       "<table border=\"1\" class=\"dataframe\">\n",
       "  <thead>\n",
       "    <tr style=\"text-align: right;\">\n",
       "      <th></th>\n",
       "      <th>TestID</th>\n",
       "      <th>Date</th>\n",
       "      <th>WPM</th>\n",
       "      <th>Accuracy</th>\n",
       "      <th>Keyboard</th>\n",
       "    </tr>\n",
       "  </thead>\n",
       "  <tbody>\n",
       "    <tr>\n",
       "      <th>0</th>\n",
       "      <td>1</td>\n",
       "      <td>10/20/2020</td>\n",
       "      <td>91.0</td>\n",
       "      <td>97.38</td>\n",
       "      <td>NYM84</td>\n",
       "    </tr>\n",
       "    <tr>\n",
       "      <th>1</th>\n",
       "      <td>2</td>\n",
       "      <td>10/23/2020</td>\n",
       "      <td>83.0</td>\n",
       "      <td>93.24</td>\n",
       "      <td>KBD75</td>\n",
       "    </tr>\n",
       "    <tr>\n",
       "      <th>2</th>\n",
       "      <td>3</td>\n",
       "      <td>10/23/2020</td>\n",
       "      <td>82.0</td>\n",
       "      <td>91.61</td>\n",
       "      <td>KBD75</td>\n",
       "    </tr>\n",
       "    <tr>\n",
       "      <th>3</th>\n",
       "      <td>4</td>\n",
       "      <td>10/23/2020</td>\n",
       "      <td>87.0</td>\n",
       "      <td>92.50</td>\n",
       "      <td>KBD75</td>\n",
       "    </tr>\n",
       "    <tr>\n",
       "      <th>4</th>\n",
       "      <td>5</td>\n",
       "      <td>10/23/2020</td>\n",
       "      <td>86.0</td>\n",
       "      <td>94.40</td>\n",
       "      <td>KBD75</td>\n",
       "    </tr>\n",
       "    <tr>\n",
       "      <th>...</th>\n",
       "      <td>...</td>\n",
       "      <td>...</td>\n",
       "      <td>...</td>\n",
       "      <td>...</td>\n",
       "      <td>...</td>\n",
       "    </tr>\n",
       "    <tr>\n",
       "      <th>95</th>\n",
       "      <td>96</td>\n",
       "      <td>NaN</td>\n",
       "      <td>NaN</td>\n",
       "      <td>NaN</td>\n",
       "      <td>NaN</td>\n",
       "    </tr>\n",
       "    <tr>\n",
       "      <th>96</th>\n",
       "      <td>97</td>\n",
       "      <td>NaN</td>\n",
       "      <td>NaN</td>\n",
       "      <td>NaN</td>\n",
       "      <td>NaN</td>\n",
       "    </tr>\n",
       "    <tr>\n",
       "      <th>97</th>\n",
       "      <td>98</td>\n",
       "      <td>NaN</td>\n",
       "      <td>NaN</td>\n",
       "      <td>NaN</td>\n",
       "      <td>NaN</td>\n",
       "    </tr>\n",
       "    <tr>\n",
       "      <th>98</th>\n",
       "      <td>99</td>\n",
       "      <td>NaN</td>\n",
       "      <td>NaN</td>\n",
       "      <td>NaN</td>\n",
       "      <td>NaN</td>\n",
       "    </tr>\n",
       "    <tr>\n",
       "      <th>99</th>\n",
       "      <td>100</td>\n",
       "      <td>NaN</td>\n",
       "      <td>NaN</td>\n",
       "      <td>NaN</td>\n",
       "      <td>NaN</td>\n",
       "    </tr>\n",
       "  </tbody>\n",
       "</table>\n",
       "<p>100 rows × 5 columns</p>\n",
       "</div>"
      ],
      "text/plain": [
       "    TestID        Date   WPM  Accuracy Keyboard\n",
       "0        1  10/20/2020  91.0     97.38    NYM84\n",
       "1        2  10/23/2020  83.0     93.24    KBD75\n",
       "2        3  10/23/2020  82.0     91.61    KBD75\n",
       "3        4  10/23/2020  87.0     92.50    KBD75\n",
       "4        5  10/23/2020  86.0     94.40    KBD75\n",
       "..     ...         ...   ...       ...      ...\n",
       "95      96         NaN   NaN       NaN      NaN\n",
       "96      97         NaN   NaN       NaN      NaN\n",
       "97      98         NaN   NaN       NaN      NaN\n",
       "98      99         NaN   NaN       NaN      NaN\n",
       "99     100         NaN   NaN       NaN      NaN\n",
       "\n",
       "[100 rows x 5 columns]"
      ]
     },
     "execution_count": 8,
     "metadata": {},
     "output_type": "execute_result"
    }
   ],
   "source": [
    "tests = pd.read_csv('../data/typing.csv')\n",
    "tests"
   ]
  },
  {
   "cell_type": "code",
   "execution_count": 11,
   "metadata": {},
   "outputs": [
    {
     "data": {
      "text/html": [
       "<div>\n",
       "<style scoped>\n",
       "    .dataframe tbody tr th:only-of-type {\n",
       "        vertical-align: middle;\n",
       "    }\n",
       "\n",
       "    .dataframe tbody tr th {\n",
       "        vertical-align: top;\n",
       "    }\n",
       "\n",
       "    .dataframe thead th {\n",
       "        text-align: right;\n",
       "    }\n",
       "</style>\n",
       "<table border=\"1\" class=\"dataframe\">\n",
       "  <thead>\n",
       "    <tr style=\"text-align: right;\">\n",
       "      <th></th>\n",
       "      <th>Date</th>\n",
       "      <th>WPM</th>\n",
       "      <th>Accuracy</th>\n",
       "      <th>Keyboard</th>\n",
       "    </tr>\n",
       "    <tr>\n",
       "      <th>TestID</th>\n",
       "      <th></th>\n",
       "      <th></th>\n",
       "      <th></th>\n",
       "      <th></th>\n",
       "    </tr>\n",
       "  </thead>\n",
       "  <tbody>\n",
       "    <tr>\n",
       "      <th>1</th>\n",
       "      <td>10/20/2020</td>\n",
       "      <td>91.0</td>\n",
       "      <td>97.38</td>\n",
       "      <td>NYM84</td>\n",
       "    </tr>\n",
       "    <tr>\n",
       "      <th>2</th>\n",
       "      <td>10/23/2020</td>\n",
       "      <td>83.0</td>\n",
       "      <td>93.24</td>\n",
       "      <td>KBD75</td>\n",
       "    </tr>\n",
       "    <tr>\n",
       "      <th>3</th>\n",
       "      <td>10/23/2020</td>\n",
       "      <td>82.0</td>\n",
       "      <td>91.61</td>\n",
       "      <td>KBD75</td>\n",
       "    </tr>\n",
       "    <tr>\n",
       "      <th>4</th>\n",
       "      <td>10/23/2020</td>\n",
       "      <td>87.0</td>\n",
       "      <td>92.50</td>\n",
       "      <td>KBD75</td>\n",
       "    </tr>\n",
       "    <tr>\n",
       "      <th>5</th>\n",
       "      <td>10/23/2020</td>\n",
       "      <td>86.0</td>\n",
       "      <td>94.40</td>\n",
       "      <td>KBD75</td>\n",
       "    </tr>\n",
       "    <tr>\n",
       "      <th>...</th>\n",
       "      <td>...</td>\n",
       "      <td>...</td>\n",
       "      <td>...</td>\n",
       "      <td>...</td>\n",
       "    </tr>\n",
       "    <tr>\n",
       "      <th>96</th>\n",
       "      <td>NaN</td>\n",
       "      <td>NaN</td>\n",
       "      <td>NaN</td>\n",
       "      <td>NaN</td>\n",
       "    </tr>\n",
       "    <tr>\n",
       "      <th>97</th>\n",
       "      <td>NaN</td>\n",
       "      <td>NaN</td>\n",
       "      <td>NaN</td>\n",
       "      <td>NaN</td>\n",
       "    </tr>\n",
       "    <tr>\n",
       "      <th>98</th>\n",
       "      <td>NaN</td>\n",
       "      <td>NaN</td>\n",
       "      <td>NaN</td>\n",
       "      <td>NaN</td>\n",
       "    </tr>\n",
       "    <tr>\n",
       "      <th>99</th>\n",
       "      <td>NaN</td>\n",
       "      <td>NaN</td>\n",
       "      <td>NaN</td>\n",
       "      <td>NaN</td>\n",
       "    </tr>\n",
       "    <tr>\n",
       "      <th>100</th>\n",
       "      <td>NaN</td>\n",
       "      <td>NaN</td>\n",
       "      <td>NaN</td>\n",
       "      <td>NaN</td>\n",
       "    </tr>\n",
       "  </tbody>\n",
       "</table>\n",
       "<p>100 rows × 4 columns</p>\n",
       "</div>"
      ],
      "text/plain": [
       "              Date   WPM  Accuracy Keyboard\n",
       "TestID                                     \n",
       "1       10/20/2020  91.0     97.38    NYM84\n",
       "2       10/23/2020  83.0     93.24    KBD75\n",
       "3       10/23/2020  82.0     91.61    KBD75\n",
       "4       10/23/2020  87.0     92.50    KBD75\n",
       "5       10/23/2020  86.0     94.40    KBD75\n",
       "...            ...   ...       ...      ...\n",
       "96             NaN   NaN       NaN      NaN\n",
       "97             NaN   NaN       NaN      NaN\n",
       "98             NaN   NaN       NaN      NaN\n",
       "99             NaN   NaN       NaN      NaN\n",
       "100            NaN   NaN       NaN      NaN\n",
       "\n",
       "[100 rows x 4 columns]"
      ]
     },
     "execution_count": 11,
     "metadata": {},
     "output_type": "execute_result"
    }
   ],
   "source": [
    "tests = pd.read_csv('../data/typing.csv', index_col=0)\n",
    "# As seen above, there is already an index in the file\n",
    "tests"
   ]
  },
  {
   "cell_type": "markdown",
   "metadata": {},
   "source": [
    "## Inspecting Data"
   ]
  },
  {
   "cell_type": "code",
   "execution_count": 12,
   "metadata": {},
   "outputs": [
    {
     "data": {
      "text/plain": [
       "Index(['Date', 'WPM', 'Accuracy', 'Keyboard'], dtype='object')"
      ]
     },
     "execution_count": 12,
     "metadata": {},
     "output_type": "execute_result"
    }
   ],
   "source": [
    "tests.columns # Let's see what columns we have"
   ]
  },
  {
   "cell_type": "code",
   "execution_count": 13,
   "metadata": {},
   "outputs": [
    {
     "data": {
      "text/plain": [
       "Date         object\n",
       "WPM         float64\n",
       "Accuracy    float64\n",
       "Keyboard     object\n",
       "dtype: object"
      ]
     },
     "execution_count": 13,
     "metadata": {},
     "output_type": "execute_result"
    }
   ],
   "source": [
    "tests.dtypes # Let's see how Pandas loaded them\n",
    "#Looks like date came in as an object\n",
    "#Let's change our how we read our csv to parse the dates in the column"
   ]
  },
  {
   "cell_type": "code",
   "execution_count": 37,
   "metadata": {},
   "outputs": [
    {
     "data": {
      "text/plain": [
       "TestID               int64\n",
       "Date        datetime64[ns]\n",
       "WPM                float64\n",
       "Accuracy           float64\n",
       "Keyboard            object\n",
       "dtype: object"
      ]
     },
     "execution_count": 37,
     "metadata": {},
     "output_type": "execute_result"
    }
   ],
   "source": [
    "tests = pd.read_csv('../data/typing.csv', parse_dates=['Date'])\n",
    "tests.dtypes"
   ]
  },
  {
   "cell_type": "code",
   "execution_count": 19,
   "metadata": {},
   "outputs": [
    {
     "data": {
      "text/plain": [
       "TestID               int64\n",
       "Date        datetime64[ns]\n",
       "WPM                float64\n",
       "Accuracy           float64\n",
       "Keyboard            object\n",
       "dtype: object"
      ]
     },
     "execution_count": 19,
     "metadata": {},
     "output_type": "execute_result"
    }
   ],
   "source": [
    "tests.dtypes"
   ]
  },
  {
   "cell_type": "code",
   "execution_count": 21,
   "metadata": {},
   "outputs": [
    {
     "data": {
      "text/plain": [
       "NaN        73\n",
       "NYM84      16\n",
       "KBD75       9\n",
       "Leopold     2\n",
       "Name: Keyboard, dtype: int64"
      ]
     },
     "execution_count": 21,
     "metadata": {},
     "output_type": "execute_result"
    }
   ],
   "source": [
    "tests.iloc[:,4].value_counts(dropna=False)\n",
    "#Here we can see what kinds of values are in our keyboard column; index 4"
   ]
  },
  {
   "cell_type": "markdown",
   "metadata": {},
   "source": [
    "## Tweaking Data"
   ]
  },
  {
   "cell_type": "code",
   "execution_count": 40,
   "metadata": {},
   "outputs": [],
   "source": [
    "tests = tests.assign(Keyboard=tests.Keyboard.astype('category'))\n",
    "#convert the keyboard column to category"
   ]
  },
  {
   "cell_type": "code",
   "execution_count": 41,
   "metadata": {},
   "outputs": [
    {
     "data": {
      "text/plain": [
       "TestID               int64\n",
       "Date        datetime64[ns]\n",
       "WPM                float64\n",
       "Accuracy           float64\n",
       "Keyboard          category\n",
       "dtype: object"
      ]
     },
     "execution_count": 41,
     "metadata": {},
     "output_type": "execute_result"
    }
   ],
   "source": [
    "tests.dtypes"
   ]
  },
  {
   "cell_type": "code",
   "execution_count": 43,
   "metadata": {},
   "outputs": [
    {
     "data": {
      "text/html": [
       "<div>\n",
       "<style scoped>\n",
       "    .dataframe tbody tr th:only-of-type {\n",
       "        vertical-align: middle;\n",
       "    }\n",
       "\n",
       "    .dataframe tbody tr th {\n",
       "        vertical-align: top;\n",
       "    }\n",
       "\n",
       "    .dataframe thead th {\n",
       "        text-align: right;\n",
       "    }\n",
       "</style>\n",
       "<table border=\"1\" class=\"dataframe\">\n",
       "  <thead>\n",
       "    <tr style=\"text-align: right;\">\n",
       "      <th></th>\n",
       "      <th>TestID</th>\n",
       "      <th>Date</th>\n",
       "      <th>WPM</th>\n",
       "      <th>Accuracy</th>\n",
       "      <th>Keyboard</th>\n",
       "    </tr>\n",
       "  </thead>\n",
       "  <tbody>\n",
       "    <tr>\n",
       "      <th>0</th>\n",
       "      <td>1</td>\n",
       "      <td>2020-10-20</td>\n",
       "      <td>91.0</td>\n",
       "      <td>97.38</td>\n",
       "      <td>NYM84</td>\n",
       "    </tr>\n",
       "    <tr>\n",
       "      <th>1</th>\n",
       "      <td>2</td>\n",
       "      <td>2020-10-23</td>\n",
       "      <td>83.0</td>\n",
       "      <td>93.24</td>\n",
       "      <td>KBD75</td>\n",
       "    </tr>\n",
       "    <tr>\n",
       "      <th>2</th>\n",
       "      <td>3</td>\n",
       "      <td>2020-10-23</td>\n",
       "      <td>82.0</td>\n",
       "      <td>91.61</td>\n",
       "      <td>KBD75</td>\n",
       "    </tr>\n",
       "    <tr>\n",
       "      <th>3</th>\n",
       "      <td>4</td>\n",
       "      <td>2020-10-23</td>\n",
       "      <td>87.0</td>\n",
       "      <td>92.50</td>\n",
       "      <td>KBD75</td>\n",
       "    </tr>\n",
       "    <tr>\n",
       "      <th>4</th>\n",
       "      <td>5</td>\n",
       "      <td>2020-10-23</td>\n",
       "      <td>86.0</td>\n",
       "      <td>94.40</td>\n",
       "      <td>KBD75</td>\n",
       "    </tr>\n",
       "    <tr>\n",
       "      <th>5</th>\n",
       "      <td>6</td>\n",
       "      <td>2020-10-23</td>\n",
       "      <td>82.0</td>\n",
       "      <td>91.33</td>\n",
       "      <td>KBD75</td>\n",
       "    </tr>\n",
       "    <tr>\n",
       "      <th>6</th>\n",
       "      <td>7</td>\n",
       "      <td>2020-10-23</td>\n",
       "      <td>77.0</td>\n",
       "      <td>94.00</td>\n",
       "      <td>KBD75</td>\n",
       "    </tr>\n",
       "    <tr>\n",
       "      <th>7</th>\n",
       "      <td>8</td>\n",
       "      <td>2020-10-27</td>\n",
       "      <td>96.0</td>\n",
       "      <td>96.00</td>\n",
       "      <td>NYM84</td>\n",
       "    </tr>\n",
       "    <tr>\n",
       "      <th>8</th>\n",
       "      <td>9</td>\n",
       "      <td>2020-10-27</td>\n",
       "      <td>76.0</td>\n",
       "      <td>98.00</td>\n",
       "      <td>NYM84</td>\n",
       "    </tr>\n",
       "    <tr>\n",
       "      <th>9</th>\n",
       "      <td>10</td>\n",
       "      <td>2020-10-27</td>\n",
       "      <td>89.0</td>\n",
       "      <td>98.00</td>\n",
       "      <td>NYM84</td>\n",
       "    </tr>\n",
       "    <tr>\n",
       "      <th>10</th>\n",
       "      <td>11</td>\n",
       "      <td>2020-10-27</td>\n",
       "      <td>81.0</td>\n",
       "      <td>94.60</td>\n",
       "      <td>NYM84</td>\n",
       "    </tr>\n",
       "    <tr>\n",
       "      <th>11</th>\n",
       "      <td>12</td>\n",
       "      <td>2020-11-03</td>\n",
       "      <td>85.0</td>\n",
       "      <td>94.60</td>\n",
       "      <td>NYM84</td>\n",
       "    </tr>\n",
       "    <tr>\n",
       "      <th>12</th>\n",
       "      <td>13</td>\n",
       "      <td>2020-11-11</td>\n",
       "      <td>90.0</td>\n",
       "      <td>97.17</td>\n",
       "      <td>KBD75</td>\n",
       "    </tr>\n",
       "    <tr>\n",
       "      <th>13</th>\n",
       "      <td>14</td>\n",
       "      <td>2020-11-13</td>\n",
       "      <td>105.0</td>\n",
       "      <td>97.00</td>\n",
       "      <td>NYM84</td>\n",
       "    </tr>\n",
       "    <tr>\n",
       "      <th>14</th>\n",
       "      <td>15</td>\n",
       "      <td>2020-11-14</td>\n",
       "      <td>103.0</td>\n",
       "      <td>97.00</td>\n",
       "      <td>NYM84</td>\n",
       "    </tr>\n",
       "    <tr>\n",
       "      <th>15</th>\n",
       "      <td>16</td>\n",
       "      <td>2020-11-21</td>\n",
       "      <td>77.0</td>\n",
       "      <td>88.28</td>\n",
       "      <td>NYM84</td>\n",
       "    </tr>\n",
       "    <tr>\n",
       "      <th>16</th>\n",
       "      <td>17</td>\n",
       "      <td>2020-11-21</td>\n",
       "      <td>84.0</td>\n",
       "      <td>95.29</td>\n",
       "      <td>NYM84</td>\n",
       "    </tr>\n",
       "    <tr>\n",
       "      <th>17</th>\n",
       "      <td>18</td>\n",
       "      <td>2020-11-21</td>\n",
       "      <td>83.0</td>\n",
       "      <td>91.50</td>\n",
       "      <td>NYM84</td>\n",
       "    </tr>\n",
       "    <tr>\n",
       "      <th>18</th>\n",
       "      <td>19</td>\n",
       "      <td>2020-11-21</td>\n",
       "      <td>86.0</td>\n",
       "      <td>94.49</td>\n",
       "      <td>NYM84</td>\n",
       "    </tr>\n",
       "    <tr>\n",
       "      <th>19</th>\n",
       "      <td>20</td>\n",
       "      <td>2020-11-27</td>\n",
       "      <td>81.0</td>\n",
       "      <td>92.25</td>\n",
       "      <td>NYM84</td>\n",
       "    </tr>\n",
       "    <tr>\n",
       "      <th>20</th>\n",
       "      <td>21</td>\n",
       "      <td>2020-11-28</td>\n",
       "      <td>87.0</td>\n",
       "      <td>95.80</td>\n",
       "      <td>NYM84</td>\n",
       "    </tr>\n",
       "    <tr>\n",
       "      <th>21</th>\n",
       "      <td>22</td>\n",
       "      <td>2020-12-22</td>\n",
       "      <td>93.0</td>\n",
       "      <td>96.53</td>\n",
       "      <td>KBD75</td>\n",
       "    </tr>\n",
       "    <tr>\n",
       "      <th>22</th>\n",
       "      <td>23</td>\n",
       "      <td>2020-12-27</td>\n",
       "      <td>84.0</td>\n",
       "      <td>95.09</td>\n",
       "      <td>NYM84</td>\n",
       "    </tr>\n",
       "    <tr>\n",
       "      <th>23</th>\n",
       "      <td>24</td>\n",
       "      <td>2021-01-18</td>\n",
       "      <td>86.0</td>\n",
       "      <td>97.43</td>\n",
       "      <td>KBD75</td>\n",
       "    </tr>\n",
       "    <tr>\n",
       "      <th>24</th>\n",
       "      <td>25</td>\n",
       "      <td>2021-01-18</td>\n",
       "      <td>82.0</td>\n",
       "      <td>95.95</td>\n",
       "      <td>NYM84</td>\n",
       "    </tr>\n",
       "    <tr>\n",
       "      <th>25</th>\n",
       "      <td>26</td>\n",
       "      <td>2021-04-14</td>\n",
       "      <td>81.0</td>\n",
       "      <td>95.02</td>\n",
       "      <td>Leopold</td>\n",
       "    </tr>\n",
       "    <tr>\n",
       "      <th>26</th>\n",
       "      <td>27</td>\n",
       "      <td>2021-04-14</td>\n",
       "      <td>88.0</td>\n",
       "      <td>94.13</td>\n",
       "      <td>Leopold</td>\n",
       "    </tr>\n",
       "  </tbody>\n",
       "</table>\n",
       "</div>"
      ],
      "text/plain": [
       "    TestID       Date    WPM  Accuracy Keyboard\n",
       "0        1 2020-10-20   91.0     97.38    NYM84\n",
       "1        2 2020-10-23   83.0     93.24    KBD75\n",
       "2        3 2020-10-23   82.0     91.61    KBD75\n",
       "3        4 2020-10-23   87.0     92.50    KBD75\n",
       "4        5 2020-10-23   86.0     94.40    KBD75\n",
       "5        6 2020-10-23   82.0     91.33    KBD75\n",
       "6        7 2020-10-23   77.0     94.00    KBD75\n",
       "7        8 2020-10-27   96.0     96.00    NYM84\n",
       "8        9 2020-10-27   76.0     98.00    NYM84\n",
       "9       10 2020-10-27   89.0     98.00    NYM84\n",
       "10      11 2020-10-27   81.0     94.60    NYM84\n",
       "11      12 2020-11-03   85.0     94.60    NYM84\n",
       "12      13 2020-11-11   90.0     97.17    KBD75\n",
       "13      14 2020-11-13  105.0     97.00    NYM84\n",
       "14      15 2020-11-14  103.0     97.00    NYM84\n",
       "15      16 2020-11-21   77.0     88.28    NYM84\n",
       "16      17 2020-11-21   84.0     95.29    NYM84\n",
       "17      18 2020-11-21   83.0     91.50    NYM84\n",
       "18      19 2020-11-21   86.0     94.49    NYM84\n",
       "19      20 2020-11-27   81.0     92.25    NYM84\n",
       "20      21 2020-11-28   87.0     95.80    NYM84\n",
       "21      22 2020-12-22   93.0     96.53    KBD75\n",
       "22      23 2020-12-27   84.0     95.09    NYM84\n",
       "23      24 2021-01-18   86.0     97.43    KBD75\n",
       "24      25 2021-01-18   82.0     95.95    NYM84\n",
       "25      26 2021-04-14   81.0     95.02  Leopold\n",
       "26      27 2021-04-14   88.0     94.13  Leopold"
      ]
     },
     "execution_count": 43,
     "metadata": {},
     "output_type": "execute_result"
    }
   ],
   "source": [
    "tests = tests[tests['Date'].isna().cumsum() == 0]\n",
    "tests\n",
    "#Get rid of all those extra rows because of my index/ID mistake"
   ]
  },
  {
   "cell_type": "markdown",
   "metadata": {},
   "source": [
    "## Stats"
   ]
  },
  {
   "cell_type": "code",
   "execution_count": 44,
   "metadata": {},
   "outputs": [
    {
     "data": {
      "text/html": [
       "<div>\n",
       "<style scoped>\n",
       "    .dataframe tbody tr th:only-of-type {\n",
       "        vertical-align: middle;\n",
       "    }\n",
       "\n",
       "    .dataframe tbody tr th {\n",
       "        vertical-align: top;\n",
       "    }\n",
       "\n",
       "    .dataframe thead th {\n",
       "        text-align: right;\n",
       "    }\n",
       "</style>\n",
       "<table border=\"1\" class=\"dataframe\">\n",
       "  <thead>\n",
       "    <tr style=\"text-align: right;\">\n",
       "      <th></th>\n",
       "      <th>TestID</th>\n",
       "      <th>WPM</th>\n",
       "      <th>Accuracy</th>\n",
       "    </tr>\n",
       "  </thead>\n",
       "  <tbody>\n",
       "    <tr>\n",
       "      <th>count</th>\n",
       "      <td>27.000000</td>\n",
       "      <td>27.000000</td>\n",
       "      <td>27.000000</td>\n",
       "    </tr>\n",
       "    <tr>\n",
       "      <th>mean</th>\n",
       "      <td>14.000000</td>\n",
       "      <td>86.111111</td>\n",
       "      <td>94.762593</td>\n",
       "    </tr>\n",
       "    <tr>\n",
       "      <th>std</th>\n",
       "      <td>7.937254</td>\n",
       "      <td>6.979824</td>\n",
       "      <td>2.383508</td>\n",
       "    </tr>\n",
       "    <tr>\n",
       "      <th>min</th>\n",
       "      <td>1.000000</td>\n",
       "      <td>76.000000</td>\n",
       "      <td>88.280000</td>\n",
       "    </tr>\n",
       "    <tr>\n",
       "      <th>25%</th>\n",
       "      <td>7.500000</td>\n",
       "      <td>82.000000</td>\n",
       "      <td>93.620000</td>\n",
       "    </tr>\n",
       "    <tr>\n",
       "      <th>50%</th>\n",
       "      <td>14.000000</td>\n",
       "      <td>85.000000</td>\n",
       "      <td>95.020000</td>\n",
       "    </tr>\n",
       "    <tr>\n",
       "      <th>75%</th>\n",
       "      <td>20.500000</td>\n",
       "      <td>88.500000</td>\n",
       "      <td>96.765000</td>\n",
       "    </tr>\n",
       "    <tr>\n",
       "      <th>max</th>\n",
       "      <td>27.000000</td>\n",
       "      <td>105.000000</td>\n",
       "      <td>98.000000</td>\n",
       "    </tr>\n",
       "  </tbody>\n",
       "</table>\n",
       "</div>"
      ],
      "text/plain": [
       "          TestID         WPM   Accuracy\n",
       "count  27.000000   27.000000  27.000000\n",
       "mean   14.000000   86.111111  94.762593\n",
       "std     7.937254    6.979824   2.383508\n",
       "min     1.000000   76.000000  88.280000\n",
       "25%     7.500000   82.000000  93.620000\n",
       "50%    14.000000   85.000000  95.020000\n",
       "75%    20.500000   88.500000  96.765000\n",
       "max    27.000000  105.000000  98.000000"
      ]
     },
     "execution_count": 44,
     "metadata": {},
     "output_type": "execute_result"
    }
   ],
   "source": [
    "tests.describe()"
   ]
  },
  {
   "cell_type": "code",
   "execution_count": 45,
   "metadata": {
    "collapsed": true
   },
   "outputs": [
    {
     "name": "stderr",
     "output_type": "stream",
     "text": [
      "<ipython-input-45-9acde3d4edac>:1: FutureWarning: Treating datetime data as categorical rather than numeric in `.describe` is deprecated and will be removed in a future version of pandas. Specify `datetime_is_numeric=True` to silence this warning and adopt the future behavior now.\n",
      "  tests.describe(include='all')\n"
     ]
    },
    {
     "data": {
      "text/html": [
       "<div>\n",
       "<style scoped>\n",
       "    .dataframe tbody tr th:only-of-type {\n",
       "        vertical-align: middle;\n",
       "    }\n",
       "\n",
       "    .dataframe tbody tr th {\n",
       "        vertical-align: top;\n",
       "    }\n",
       "\n",
       "    .dataframe thead th {\n",
       "        text-align: right;\n",
       "    }\n",
       "</style>\n",
       "<table border=\"1\" class=\"dataframe\">\n",
       "  <thead>\n",
       "    <tr style=\"text-align: right;\">\n",
       "      <th></th>\n",
       "      <th>TestID</th>\n",
       "      <th>Date</th>\n",
       "      <th>WPM</th>\n",
       "      <th>Accuracy</th>\n",
       "      <th>Keyboard</th>\n",
       "    </tr>\n",
       "  </thead>\n",
       "  <tbody>\n",
       "    <tr>\n",
       "      <th>count</th>\n",
       "      <td>27.000000</td>\n",
       "      <td>27</td>\n",
       "      <td>27.000000</td>\n",
       "      <td>27.000000</td>\n",
       "      <td>27</td>\n",
       "    </tr>\n",
       "    <tr>\n",
       "      <th>unique</th>\n",
       "      <td>NaN</td>\n",
       "      <td>14</td>\n",
       "      <td>NaN</td>\n",
       "      <td>NaN</td>\n",
       "      <td>3</td>\n",
       "    </tr>\n",
       "    <tr>\n",
       "      <th>top</th>\n",
       "      <td>NaN</td>\n",
       "      <td>2020-10-23 00:00:00</td>\n",
       "      <td>NaN</td>\n",
       "      <td>NaN</td>\n",
       "      <td>NYM84</td>\n",
       "    </tr>\n",
       "    <tr>\n",
       "      <th>freq</th>\n",
       "      <td>NaN</td>\n",
       "      <td>6</td>\n",
       "      <td>NaN</td>\n",
       "      <td>NaN</td>\n",
       "      <td>16</td>\n",
       "    </tr>\n",
       "    <tr>\n",
       "      <th>first</th>\n",
       "      <td>NaN</td>\n",
       "      <td>2020-10-20 00:00:00</td>\n",
       "      <td>NaN</td>\n",
       "      <td>NaN</td>\n",
       "      <td>NaN</td>\n",
       "    </tr>\n",
       "    <tr>\n",
       "      <th>last</th>\n",
       "      <td>NaN</td>\n",
       "      <td>2021-04-14 00:00:00</td>\n",
       "      <td>NaN</td>\n",
       "      <td>NaN</td>\n",
       "      <td>NaN</td>\n",
       "    </tr>\n",
       "    <tr>\n",
       "      <th>mean</th>\n",
       "      <td>14.000000</td>\n",
       "      <td>NaN</td>\n",
       "      <td>86.111111</td>\n",
       "      <td>94.762593</td>\n",
       "      <td>NaN</td>\n",
       "    </tr>\n",
       "    <tr>\n",
       "      <th>std</th>\n",
       "      <td>7.937254</td>\n",
       "      <td>NaN</td>\n",
       "      <td>6.979824</td>\n",
       "      <td>2.383508</td>\n",
       "      <td>NaN</td>\n",
       "    </tr>\n",
       "    <tr>\n",
       "      <th>min</th>\n",
       "      <td>1.000000</td>\n",
       "      <td>NaN</td>\n",
       "      <td>76.000000</td>\n",
       "      <td>88.280000</td>\n",
       "      <td>NaN</td>\n",
       "    </tr>\n",
       "    <tr>\n",
       "      <th>25%</th>\n",
       "      <td>7.500000</td>\n",
       "      <td>NaN</td>\n",
       "      <td>82.000000</td>\n",
       "      <td>93.620000</td>\n",
       "      <td>NaN</td>\n",
       "    </tr>\n",
       "    <tr>\n",
       "      <th>50%</th>\n",
       "      <td>14.000000</td>\n",
       "      <td>NaN</td>\n",
       "      <td>85.000000</td>\n",
       "      <td>95.020000</td>\n",
       "      <td>NaN</td>\n",
       "    </tr>\n",
       "    <tr>\n",
       "      <th>75%</th>\n",
       "      <td>20.500000</td>\n",
       "      <td>NaN</td>\n",
       "      <td>88.500000</td>\n",
       "      <td>96.765000</td>\n",
       "      <td>NaN</td>\n",
       "    </tr>\n",
       "    <tr>\n",
       "      <th>max</th>\n",
       "      <td>27.000000</td>\n",
       "      <td>NaN</td>\n",
       "      <td>105.000000</td>\n",
       "      <td>98.000000</td>\n",
       "      <td>NaN</td>\n",
       "    </tr>\n",
       "  </tbody>\n",
       "</table>\n",
       "</div>"
      ],
      "text/plain": [
       "           TestID                 Date         WPM   Accuracy Keyboard\n",
       "count   27.000000                   27   27.000000  27.000000       27\n",
       "unique        NaN                   14         NaN        NaN        3\n",
       "top           NaN  2020-10-23 00:00:00         NaN        NaN    NYM84\n",
       "freq          NaN                    6         NaN        NaN       16\n",
       "first         NaN  2020-10-20 00:00:00         NaN        NaN      NaN\n",
       "last          NaN  2021-04-14 00:00:00         NaN        NaN      NaN\n",
       "mean    14.000000                  NaN   86.111111  94.762593      NaN\n",
       "std      7.937254                  NaN    6.979824   2.383508      NaN\n",
       "min      1.000000                  NaN   76.000000  88.280000      NaN\n",
       "25%      7.500000                  NaN   82.000000  93.620000      NaN\n",
       "50%     14.000000                  NaN   85.000000  95.020000      NaN\n",
       "75%     20.500000                  NaN   88.500000  96.765000      NaN\n",
       "max     27.000000                  NaN  105.000000  98.000000      NaN"
      ]
     },
     "execution_count": 45,
     "metadata": {},
     "output_type": "execute_result"
    }
   ],
   "source": [
    "tests.describe(include='all') # include some stats on Keyboard"
   ]
  },
  {
   "cell_type": "code",
   "execution_count": 46,
   "metadata": {},
   "outputs": [
    {
     "data": {
      "text/plain": [
       "0.4960191993054471"
      ]
     },
     "execution_count": 46,
     "metadata": {},
     "output_type": "execute_result"
    }
   ],
   "source": [
    "tests.WPM.corr(tests.Accuracy) # See if WPM and Accuracy are correlated"
   ]
  },
  {
   "cell_type": "markdown",
   "metadata": {},
   "source": [
    "## Plotting\n"
   ]
  },
  {
   "cell_type": "code",
   "execution_count": 48,
   "metadata": {},
   "outputs": [
    {
     "data": {
      "text/plain": [
       "<AxesSubplot:>"
      ]
     },
     "execution_count": 48,
     "metadata": {},
     "output_type": "execute_result"
    },
    {
     "data": {
      "image/png": "[encoded data removed]",
      "text/plain": [
       "<Figure size 432x288 with 1 Axes>"
      ]
     },
     "metadata": {
      "needs_background": "light"
     },
     "output_type": "display_data"
    }
   ],
   "source": [
    "tests.Keyboard.hist() # which keyboards do I use the most?"
   ]
  },
  {
   "cell_type": "code",
   "execution_count": 50,
   "metadata": {},
   "outputs": [
    {
     "data": {
      "text/plain": [
       "<AxesSubplot:>"
      ]
     },
     "execution_count": 50,
     "metadata": {},
     "output_type": "execute_result"
    },
    {
     "data": {
      "image/png": "[encoded data removed]",
      "text/plain": [
       "<Figure size 432x288 with 1 Axes>"
      ]
     },
     "metadata": {
      "needs_background": "light"
     },
     "output_type": "display_data"
    }
   ],
   "source": [
    "tests.WPM.value_counts().sort_index().plot.bar() # WPM freq distribution"
   ]
  },
  {
   "cell_type": "code",
   "execution_count": 51,
   "metadata": {},
   "outputs": [
    {
     "data": {
      "text/plain": [
       "<AxesSubplot:>"
      ]
     },
     "execution_count": 51,
     "metadata": {},
     "output_type": "execute_result"
    },
    {
     "data": {
      "image/png": "[encoded data removed]",
      "text/plain": [
       "<Figure size 432x288 with 1 Axes>"
      ]
     },
     "metadata": {
      "needs_background": "light"
     },
     "output_type": "display_data"
    }
   ],
   "source": [
    "tests.Accuracy.hist() "
   ]
  },
  {
   "cell_type": "code",
   "execution_count": 52,
   "metadata": {},
   "outputs": [
    {
     "data": {
      "text/plain": [
       "<AxesSubplot:>"
      ]
     },
     "execution_count": 52,
     "metadata": {},
     "output_type": "execute_result"
    },
    {
     "data": {
      "image/png": "[encoded data removed]",
      "text/plain": [
       "<Figure size 432x288 with 1 Axes>"
      ]
     },
     "metadata": {
      "needs_background": "light"
     },
     "output_type": "display_data"
    }
   ],
   "source": [
    "(tests\n",
    " .WPM\n",
    " .where(tests.Keyboard == 'NYM84')\n",
    " .hist()\n",
    ")\n",
    "# plot WPM frequency distribution for just the NYM84 keyboard"
   ]
  },
  {
   "cell_type": "code",
   "execution_count": 53,
   "metadata": {
    "collapsed": true
   },
   "outputs": [
    {
     "data": {
      "text/html": [
       "<div>\n",
       "<style scoped>\n",
       "    .dataframe tbody tr th:only-of-type {\n",
       "        vertical-align: middle;\n",
       "    }\n",
       "\n",
       "    .dataframe tbody tr th {\n",
       "        vertical-align: top;\n",
       "    }\n",
       "\n",
       "    .dataframe thead th {\n",
       "        text-align: right;\n",
       "    }\n",
       "</style>\n",
       "<table border=\"1\" class=\"dataframe\">\n",
       "  <thead>\n",
       "    <tr style=\"text-align: right;\">\n",
       "      <th></th>\n",
       "      <th>TestID</th>\n",
       "      <th>Date</th>\n",
       "      <th>WPM</th>\n",
       "      <th>Accuracy</th>\n",
       "      <th>Keyboard</th>\n",
       "    </tr>\n",
       "  </thead>\n",
       "  <tbody>\n",
       "    <tr>\n",
       "      <th>0</th>\n",
       "      <td>1</td>\n",
       "      <td>2020-10-20</td>\n",
       "      <td>91.0</td>\n",
       "      <td>97.38</td>\n",
       "      <td>NYM84</td>\n",
       "    </tr>\n",
       "    <tr>\n",
       "      <th>1</th>\n",
       "      <td>2</td>\n",
       "      <td>2020-10-23</td>\n",
       "      <td>83.0</td>\n",
       "      <td>93.24</td>\n",
       "      <td>KBD75</td>\n",
       "    </tr>\n",
       "    <tr>\n",
       "      <th>2</th>\n",
       "      <td>3</td>\n",
       "      <td>2020-10-23</td>\n",
       "      <td>82.0</td>\n",
       "      <td>91.61</td>\n",
       "      <td>KBD75</td>\n",
       "    </tr>\n",
       "    <tr>\n",
       "      <th>3</th>\n",
       "      <td>4</td>\n",
       "      <td>2020-10-23</td>\n",
       "      <td>87.0</td>\n",
       "      <td>92.50</td>\n",
       "      <td>KBD75</td>\n",
       "    </tr>\n",
       "    <tr>\n",
       "      <th>4</th>\n",
       "      <td>5</td>\n",
       "      <td>2020-10-23</td>\n",
       "      <td>86.0</td>\n",
       "      <td>94.40</td>\n",
       "      <td>KBD75</td>\n",
       "    </tr>\n",
       "    <tr>\n",
       "      <th>5</th>\n",
       "      <td>6</td>\n",
       "      <td>2020-10-23</td>\n",
       "      <td>82.0</td>\n",
       "      <td>91.33</td>\n",
       "      <td>KBD75</td>\n",
       "    </tr>\n",
       "    <tr>\n",
       "      <th>6</th>\n",
       "      <td>7</td>\n",
       "      <td>2020-10-23</td>\n",
       "      <td>77.0</td>\n",
       "      <td>94.00</td>\n",
       "      <td>KBD75</td>\n",
       "    </tr>\n",
       "    <tr>\n",
       "      <th>7</th>\n",
       "      <td>8</td>\n",
       "      <td>2020-10-27</td>\n",
       "      <td>96.0</td>\n",
       "      <td>96.00</td>\n",
       "      <td>NYM84</td>\n",
       "    </tr>\n",
       "    <tr>\n",
       "      <th>8</th>\n",
       "      <td>9</td>\n",
       "      <td>2020-10-27</td>\n",
       "      <td>76.0</td>\n",
       "      <td>98.00</td>\n",
       "      <td>NYM84</td>\n",
       "    </tr>\n",
       "    <tr>\n",
       "      <th>9</th>\n",
       "      <td>10</td>\n",
       "      <td>2020-10-27</td>\n",
       "      <td>89.0</td>\n",
       "      <td>98.00</td>\n",
       "      <td>NYM84</td>\n",
       "    </tr>\n",
       "    <tr>\n",
       "      <th>10</th>\n",
       "      <td>11</td>\n",
       "      <td>2020-10-27</td>\n",
       "      <td>81.0</td>\n",
       "      <td>94.60</td>\n",
       "      <td>NYM84</td>\n",
       "    </tr>\n",
       "    <tr>\n",
       "      <th>11</th>\n",
       "      <td>12</td>\n",
       "      <td>2020-11-03</td>\n",
       "      <td>85.0</td>\n",
       "      <td>94.60</td>\n",
       "      <td>NYM84</td>\n",
       "    </tr>\n",
       "    <tr>\n",
       "      <th>12</th>\n",
       "      <td>13</td>\n",
       "      <td>2020-11-11</td>\n",
       "      <td>90.0</td>\n",
       "      <td>97.17</td>\n",
       "      <td>KBD75</td>\n",
       "    </tr>\n",
       "    <tr>\n",
       "      <th>13</th>\n",
       "      <td>14</td>\n",
       "      <td>2020-11-13</td>\n",
       "      <td>105.0</td>\n",
       "      <td>97.00</td>\n",
       "      <td>NYM84</td>\n",
       "    </tr>\n",
       "    <tr>\n",
       "      <th>14</th>\n",
       "      <td>15</td>\n",
       "      <td>2020-11-14</td>\n",
       "      <td>103.0</td>\n",
       "      <td>97.00</td>\n",
       "      <td>NYM84</td>\n",
       "    </tr>\n",
       "    <tr>\n",
       "      <th>15</th>\n",
       "      <td>16</td>\n",
       "      <td>2020-11-21</td>\n",
       "      <td>77.0</td>\n",
       "      <td>88.28</td>\n",
       "      <td>NYM84</td>\n",
       "    </tr>\n",
       "    <tr>\n",
       "      <th>16</th>\n",
       "      <td>17</td>\n",
       "      <td>2020-11-21</td>\n",
       "      <td>84.0</td>\n",
       "      <td>95.29</td>\n",
       "      <td>NYM84</td>\n",
       "    </tr>\n",
       "    <tr>\n",
       "      <th>17</th>\n",
       "      <td>18</td>\n",
       "      <td>2020-11-21</td>\n",
       "      <td>83.0</td>\n",
       "      <td>91.50</td>\n",
       "      <td>NYM84</td>\n",
       "    </tr>\n",
       "    <tr>\n",
       "      <th>18</th>\n",
       "      <td>19</td>\n",
       "      <td>2020-11-21</td>\n",
       "      <td>86.0</td>\n",
       "      <td>94.49</td>\n",
       "      <td>NYM84</td>\n",
       "    </tr>\n",
       "    <tr>\n",
       "      <th>19</th>\n",
       "      <td>20</td>\n",
       "      <td>2020-11-27</td>\n",
       "      <td>81.0</td>\n",
       "      <td>92.25</td>\n",
       "      <td>NYM84</td>\n",
       "    </tr>\n",
       "    <tr>\n",
       "      <th>20</th>\n",
       "      <td>21</td>\n",
       "      <td>2020-11-28</td>\n",
       "      <td>87.0</td>\n",
       "      <td>95.80</td>\n",
       "      <td>NYM84</td>\n",
       "    </tr>\n",
       "    <tr>\n",
       "      <th>21</th>\n",
       "      <td>22</td>\n",
       "      <td>2020-12-22</td>\n",
       "      <td>93.0</td>\n",
       "      <td>96.53</td>\n",
       "      <td>KBD75</td>\n",
       "    </tr>\n",
       "    <tr>\n",
       "      <th>22</th>\n",
       "      <td>23</td>\n",
       "      <td>2020-12-27</td>\n",
       "      <td>84.0</td>\n",
       "      <td>95.09</td>\n",
       "      <td>NYM84</td>\n",
       "    </tr>\n",
       "    <tr>\n",
       "      <th>23</th>\n",
       "      <td>24</td>\n",
       "      <td>2021-01-18</td>\n",
       "      <td>86.0</td>\n",
       "      <td>97.43</td>\n",
       "      <td>KBD75</td>\n",
       "    </tr>\n",
       "    <tr>\n",
       "      <th>24</th>\n",
       "      <td>25</td>\n",
       "      <td>2021-01-18</td>\n",
       "      <td>82.0</td>\n",
       "      <td>95.95</td>\n",
       "      <td>NYM84</td>\n",
       "    </tr>\n",
       "    <tr>\n",
       "      <th>25</th>\n",
       "      <td>26</td>\n",
       "      <td>2021-04-14</td>\n",
       "      <td>81.0</td>\n",
       "      <td>95.02</td>\n",
       "      <td>Leopold</td>\n",
       "    </tr>\n",
       "    <tr>\n",
       "      <th>26</th>\n",
       "      <td>27</td>\n",
       "      <td>2021-04-14</td>\n",
       "      <td>88.0</td>\n",
       "      <td>94.13</td>\n",
       "      <td>Leopold</td>\n",
       "    </tr>\n",
       "  </tbody>\n",
       "</table>\n",
       "</div>"
      ],
      "text/plain": [
       "    TestID       Date    WPM  Accuracy Keyboard\n",
       "0        1 2020-10-20   91.0     97.38    NYM84\n",
       "1        2 2020-10-23   83.0     93.24    KBD75\n",
       "2        3 2020-10-23   82.0     91.61    KBD75\n",
       "3        4 2020-10-23   87.0     92.50    KBD75\n",
       "4        5 2020-10-23   86.0     94.40    KBD75\n",
       "5        6 2020-10-23   82.0     91.33    KBD75\n",
       "6        7 2020-10-23   77.0     94.00    KBD75\n",
       "7        8 2020-10-27   96.0     96.00    NYM84\n",
       "8        9 2020-10-27   76.0     98.00    NYM84\n",
       "9       10 2020-10-27   89.0     98.00    NYM84\n",
       "10      11 2020-10-27   81.0     94.60    NYM84\n",
       "11      12 2020-11-03   85.0     94.60    NYM84\n",
       "12      13 2020-11-11   90.0     97.17    KBD75\n",
       "13      14 2020-11-13  105.0     97.00    NYM84\n",
       "14      15 2020-11-14  103.0     97.00    NYM84\n",
       "15      16 2020-11-21   77.0     88.28    NYM84\n",
       "16      17 2020-11-21   84.0     95.29    NYM84\n",
       "17      18 2020-11-21   83.0     91.50    NYM84\n",
       "18      19 2020-11-21   86.0     94.49    NYM84\n",
       "19      20 2020-11-27   81.0     92.25    NYM84\n",
       "20      21 2020-11-28   87.0     95.80    NYM84\n",
       "21      22 2020-12-22   93.0     96.53    KBD75\n",
       "22      23 2020-12-27   84.0     95.09    NYM84\n",
       "23      24 2021-01-18   86.0     97.43    KBD75\n",
       "24      25 2021-01-18   82.0     95.95    NYM84\n",
       "25      26 2021-04-14   81.0     95.02  Leopold\n",
       "26      27 2021-04-14   88.0     94.13  Leopold"
      ]
     },
     "execution_count": 53,
     "metadata": {},
     "output_type": "execute_result"
    }
   ],
   "source": [
    "tests # sanity check"
   ]
  },
  {
   "cell_type": "code",
   "execution_count": 54,
   "metadata": {
    "collapsed": true
   },
   "outputs": [
    {
     "data": {
      "text/plain": [
       "<AxesSubplot:ylabel='Keyboard'>"
      ]
     },
     "execution_count": 54,
     "metadata": {},
     "output_type": "execute_result"
    },
    {
     "data": {
      "image/png": "[encoded data removed]",
      "text/plain": [
       "<Figure size 432x288 with 1 Axes>"
      ]
     },
     "metadata": {},
     "output_type": "display_data"
    }
   ],
   "source": [
    "#Pie Chart\n",
    "(\n",
    "tests\n",
    " .Keyboard\n",
    " .value_counts()\n",
    " .plot.pie()\n",
    ")"
   ]
  },
  {
   "cell_type": "code",
   "execution_count": 55,
   "metadata": {},
   "outputs": [
    {
     "data": {
      "text/plain": [
       "<AxesSubplot:xlabel='Date'>"
      ]
     },
     "execution_count": 55,
     "metadata": {},
     "output_type": "execute_result"
    },
    {
     "data": {
      "image/png": "[encoded data removed]",
      "text/plain": [
       "<Figure size 432x288 with 1 Axes>"
      ]
     },
     "metadata": {
      "needs_background": "light"
     },
     "output_type": "display_data"
    }
   ],
   "source": [
    "tests.plot.line(x='Date', y='WPM')"
   ]
  },
  {
   "cell_type": "code",
   "execution_count": 57,
   "metadata": {},
   "outputs": [
    {
     "data": {
      "text/plain": [
       "<AxesSubplot:xlabel='Date'>"
      ]
     },
     "execution_count": 57,
     "metadata": {},
     "output_type": "execute_result"
    },
    {
     "data": {
      "image/png": "[encoded data removed]",
      "text/plain": [
       "<Figure size 432x288 with 1 Axes>"
      ]
     },
     "metadata": {
      "needs_background": "light"
     },
     "output_type": "display_data"
    }
   ],
   "source": [
    "tests.plot.line(x='Date', y='Accuracy')"
   ]
  },
  {
   "cell_type": "code",
   "execution_count": 60,
   "metadata": {},
   "outputs": [
    {
     "data": {
      "text/plain": [
       "<AxesSubplot:xlabel='WPM', ylabel='Accuracy'>"
      ]
     },
     "execution_count": 60,
     "metadata": {},
     "output_type": "execute_result"
    },
    {
     "data": {
      "image/png": "[encoded data removed]",
      "text/plain": [
       "<Figure size 432x288 with 1 Axes>"
      ]
     },
     "metadata": {
      "needs_background": "light"
     },
     "output_type": "display_data"
    }
   ],
   "source": [
    "tests.plot.scatter(x='WPM', y='Accuracy')"
   ]
  },
  {
   "cell_type": "markdown",
   "metadata": {},
   "source": [
    "## Grouping"
   ]
  },
  {
   "cell_type": "code",
   "execution_count": 62,
   "metadata": {},
   "outputs": [
    {
     "data": {
      "text/html": [
       "<div>\n",
       "<style scoped>\n",
       "    .dataframe tbody tr th:only-of-type {\n",
       "        vertical-align: middle;\n",
       "    }\n",
       "\n",
       "    .dataframe tbody tr th {\n",
       "        vertical-align: top;\n",
       "    }\n",
       "\n",
       "    .dataframe thead th {\n",
       "        text-align: right;\n",
       "    }\n",
       "</style>\n",
       "<table border=\"1\" class=\"dataframe\">\n",
       "  <thead>\n",
       "    <tr style=\"text-align: right;\">\n",
       "      <th></th>\n",
       "      <th>TestID</th>\n",
       "      <th>WPM</th>\n",
       "      <th>Accuracy</th>\n",
       "    </tr>\n",
       "    <tr>\n",
       "      <th>Keyboard</th>\n",
       "      <th></th>\n",
       "      <th></th>\n",
       "      <th></th>\n",
       "    </tr>\n",
       "  </thead>\n",
       "  <tbody>\n",
       "    <tr>\n",
       "      <th>KBD75</th>\n",
       "      <td>9.555556</td>\n",
       "      <td>85.111111</td>\n",
       "      <td>94.245556</td>\n",
       "    </tr>\n",
       "    <tr>\n",
       "      <th>Leopold</th>\n",
       "      <td>26.500000</td>\n",
       "      <td>84.500000</td>\n",
       "      <td>94.575000</td>\n",
       "    </tr>\n",
       "    <tr>\n",
       "      <th>NYM84</th>\n",
       "      <td>14.937500</td>\n",
       "      <td>86.875000</td>\n",
       "      <td>95.076875</td>\n",
       "    </tr>\n",
       "  </tbody>\n",
       "</table>\n",
       "</div>"
      ],
      "text/plain": [
       "             TestID        WPM   Accuracy\n",
       "Keyboard                                 \n",
       "KBD75      9.555556  85.111111  94.245556\n",
       "Leopold   26.500000  84.500000  94.575000\n",
       "NYM84     14.937500  86.875000  95.076875"
      ]
     },
     "execution_count": 62,
     "metadata": {},
     "output_type": "execute_result"
    }
   ],
   "source": [
    "tests.groupby('Keyboard').mean()"
   ]
  },
  {
   "cell_type": "code",
   "execution_count": 69,
   "metadata": {},
   "outputs": [
    {
     "data": {
      "text/plain": [
       "<AxesSubplot:xlabel='Date'>"
      ]
     },
     "execution_count": 69,
     "metadata": {},
     "output_type": "execute_result"
    },
    {
     "data": {
      "image/png": "[encoded data removed]",
      "text/plain": [
       "<Figure size 432x288 with 1 Axes>"
      ]
     },
     "metadata": {
      "needs_background": "light"
     },
     "output_type": "display_data"
    }
   ],
   "source": [
    "(tests\n",
    " .groupby(tests.Date.dt.month)\n",
    " .TestID\n",
    " .count()\n",
    " .plot()\n",
    ")\n",
    "#How many tests I took in each month"
   ]
  },
  {
   "cell_type": "markdown",
   "metadata": {},
   "source": [
    "## Seaborn"
   ]
  },
  {
   "cell_type": "code",
   "execution_count": 75,
   "metadata": {},
   "outputs": [
    {
     "data": {
      "text/plain": [
       "<AxesSubplot:xlabel='Keyboard', ylabel='count'>"
      ]
     },
     "execution_count": 75,
     "metadata": {},
     "output_type": "execute_result"
    },
    {
     "data": {
      "image/png": "[encoded data removed]",
      "text/plain": [
       "<Figure size 432x288 with 1 Axes>"
      ]
     },
     "metadata": {
      "needs_background": "light"
     },
     "output_type": "display_data"
    }
   ],
   "source": [
    "# 1D - Categorical ; Number of tests taken on each board\n",
    "sns.countplot(x='Keyboard', data=tests)"
   ]
  },
  {
   "cell_type": "code",
   "execution_count": 76,
   "metadata": {},
   "outputs": [
    {
     "data": {
      "text/plain": [
       "<seaborn.axisgrid.FacetGrid at 0x16c014eecd0>"
      ]
     },
     "execution_count": 76,
     "metadata": {},
     "output_type": "execute_result"
    },
    {
     "data": {
      "image/png": "[encoded data removed]",
      "text/plain": [
       "<Figure size 360x360 with 1 Axes>"
      ]
     },
     "metadata": {
      "needs_background": "light"
     },
     "output_type": "display_data"
    }
   ],
   "source": [
    "sns.relplot(x='WPM', y='Accuracy', data=tests)"
   ]
  },
  {
   "cell_type": "code",
   "execution_count": 77,
   "metadata": {},
   "outputs": [
    {
     "data": {
      "text/plain": [
       "<seaborn.axisgrid.FacetGrid at 0x16c016ee490>"
      ]
     },
     "execution_count": 77,
     "metadata": {},
     "output_type": "execute_result"
    },
    {
     "data": {
      "image/png": "[encoded data removed]",
      "text/plain": [
       "<Figure size 360x360 with 1 Axes>"
      ]
     },
     "metadata": {
      "needs_background": "light"
     },
     "output_type": "display_data"
    }
   ],
   "source": [
    "sns.lmplot(x='WPM', y='Accuracy', data=tests) # regression"
   ]
  },
  {
   "cell_type": "code",
   "execution_count": 80,
   "metadata": {},
   "outputs": [
    {
     "data": {
      "text/plain": [
       "<AxesSubplot:xlabel='Month'>"
      ]
     },
     "execution_count": 80,
     "metadata": {},
     "output_type": "execute_result"
    },
    {
     "data": {
      "image/png": "[encoded data removed]",
      "text/plain": [
       "<Figure size 432x288 with 1 Axes>"
      ]
     },
     "metadata": {
      "needs_background": "light"
     },
     "output_type": "display_data"
    }
   ],
   "source": [
    "tests.groupby(tests.Date.dt.month)['WPM'].mean().plot(xlabel='Month')"
   ]
  },
  {
   "cell_type": "code",
   "execution_count": 84,
   "metadata": {},
   "outputs": [
    {
     "data": {
      "text/plain": [
       "<AxesSubplot:xlabel='Date', ylabel='WPM'>"
      ]
     },
     "execution_count": 84,
     "metadata": {},
     "output_type": "execute_result"
    },
    {
     "data": {
      "image/png": "[encoded data removed]",
      "text/plain": [
       "<Figure size 432x288 with 1 Axes>"
      ]
     },
     "metadata": {
      "needs_background": "light"
     },
     "output_type": "display_data"
    }
   ],
   "source": [
    "sns.lineplot(x='Date', y='WPM', data=tests)"
   ]
  }
 ],
 "metadata": {
  "kernelspec": {
   "display_name": "Python 3",
   "language": "python",
   "name": "python3"
  },
  "language_info": {
   "codemirror_mode": {
    "name": "ipython",
    "version": 3
   },
   "file_extension": ".py",
   "mimetype": "text/x-python",
   "name": "python",
   "nbconvert_exporter": "python",
   "pygments_lexer": "ipython3",
   "version": "3.9.0"
  }
 },
 "nbformat": 4,
 "nbformat_minor": 4
}
